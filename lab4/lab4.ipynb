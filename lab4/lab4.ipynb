{
 "cells": [
  {
   "cell_type": "code",
   "execution_count": null,
   "metadata": {},
   "outputs": [],
   "source": [
    "from PIL import Image\n",
    "import numpy as np\n",
    "from PIL import ImageChops\n",
    "import matplotlib.pyplot as plt"
   ]
  },
  {
   "cell_type": "code",
   "execution_count": null,
   "metadata": {},
   "outputs": [],
   "source": [
    "im = Image.open('jesien.jpg')\n",
    "print(\"tryb\", im.mode)\n",
    "print(\"format\", im.format)\n",
    "print(\"rozmiar\", im.size)\n",
    "h, w = im.size\n",
    "im"
   ]
  },
  {
   "cell_type": "code",
   "execution_count": null,
   "metadata": {},
   "outputs": [],
   "source": [
    "# tablica obrazu\n",
    "T = np.array(im)\n",
    "print(\"typ danych tablicy obrazu: \", T.dtype)\n",
    "print(\"rozmiar elementu tablicy obrazu: \", T.itemsize)\n",
    "print(\"rozmiar tablicy obrazu: \", T.shape)"
   ]
  },
  {
   "cell_type": "code",
   "execution_count": null,
   "metadata": {},
   "outputs": [],
   "source": [
    "#tablica kanału r\n",
    "t_r = T[:, :, 0]\n",
    "print(\"typ danych tablicy kanału r: \", t_r.dtype)\n",
    "print(\"rozmiar elemntu tablicy kanału r: \",t_r.itemsize)\n",
    "print(\"rozmiar tablicy kanału r: \",t_r.shape)\n",
    "im_r = Image.fromarray(t_r) # obraz w odcieniuach szarości kanału r\n",
    "print(\"tryb kanału r: \", im_r.mode)\n",
    "\n",
    "#tablica kanału g\n",
    "t_g = T[:, :, 1]\n",
    "im_g = Image.fromarray(t_g) # obraz w odcieniuach szarości kanału g\n",
    "#tablica kanału b\n",
    "t_b = T[:, :, 2]\n",
    "im_b = Image.fromarray(t_b) # obraz w odcieniuach szarości kanału b\n",
    "\n",
    "\n"
   ]
  },
  {
   "cell_type": "code",
   "execution_count": null,
   "metadata": {},
   "outputs": [],
   "source": [
    "# przedstawienie 4 obrazów w jednym oknie plt\n",
    "plt.figure(figsize=(32, 16))\n",
    "plt.subplot(2,2,1) # ile obrazów w pionie, ile w poziomie, numer obrazu\n",
    "plt.imshow(im)\n",
    "plt.axis('off')\n",
    "plt.subplot(2,2,2)\n",
    "plt.imshow(im_r, \"gray\")\n",
    "plt.axis('off')\n",
    "plt.subplot(2,2,3)\n",
    "plt.imshow(im_g, \"gray\")\n",
    "plt.axis('off')\n",
    "plt.subplot(2,2,4)\n",
    "plt.imshow(im_b, \"gray\")\n",
    "plt.axis('off')\n",
    "plt.subplots_adjust(wspace=0.05, hspace=0.05)\n",
    "plt.savefig('figura1.png')\n",
    "plt.show()\n"
   ]
  },
  {
   "cell_type": "code",
   "execution_count": null,
   "metadata": {},
   "outputs": [],
   "source": [
    "# Kanały pobrane jako obrazy\n",
    "r, g, b = im.split()  # powstają obrazy\n",
    "print(\"tryb kanału r: \", r.mode)\n",
    "print(\"tryb kanału g: \", g.mode)\n",
    "print(\"tryb kanału b: \", b.mode)\n"
   ]
  },
  {
   "cell_type": "code",
   "execution_count": null,
   "metadata": {},
   "outputs": [],
   "source": [
    "# porównanie obu metod pozyskania kanałów\n",
    "# ImageChops.difference daje obraz, kórego piksele powstają\n",
    "# jako wartość bezwzględna różnicy pikseli\n",
    "\n",
    "diff_r = ImageChops.difference(r, im_r)\n",
    "diff_g = ImageChops.difference(g, im_g)\n",
    "diff_b = ImageChops.difference(b, im_b)\n",
    "\n"
   ]
  },
  {
   "cell_type": "code",
   "execution_count": null,
   "metadata": {},
   "outputs": [],
   "source": [
    "# przedstawienie na jednej figurze plt\n",
    "\n",
    "\n",
    "plt.figure(figsize=(32, 16))\n",
    "plt.subplot(3,4,1) \n",
    "plt.imshow(im)\n",
    "plt.axis('off')\n",
    "plt.subplot(3,4,2)\n",
    "plt.imshow(im_r, \"gray\")\n",
    "plt.axis('off')\n",
    "plt.subplot(3,4,3)\n",
    "plt.imshow(im_g, \"gray\")\n",
    "plt.axis('off')\n",
    "plt.subplot(3,4,4)\n",
    "plt.imshow(im_b, \"gray\")\n",
    "plt.axis('off')\n",
    "plt.subplot(3,4,5)\n",
    "plt.imshow(im)\n",
    "plt.axis('off')\n",
    "plt.subplot(3,4,6)\n",
    "plt.imshow(r, \"gray\")\n",
    "plt.axis('off')\n",
    "plt.subplot(3,4,7)\n",
    "plt.imshow(g, \"gray\")\n",
    "plt.axis('off')\n",
    "plt.subplot(3,4,8)\n",
    "plt.imshow(b, \"gray\")\n",
    "plt.axis('off')\n",
    "plt.subplot(3,4,9)\n",
    "plt.imshow(im)\n",
    "plt.axis('off')\n",
    "plt.subplot(3,4,10)\n",
    "plt.imshow(diff_r, \"gray\")\n",
    "plt.axis('off')\n",
    "plt.subplot(3,4,11)\n",
    "plt.imshow(diff_g, \"gray\")\n",
    "plt.axis('off')\n",
    "plt.subplot(3,4,12)\n",
    "plt.imshow(diff_b, \"gray\")\n",
    "plt.axis('off')\n",
    "plt.subplots_adjust(wspace=0.05, hspace=0.05)\n",
    "plt.show()\n"
   ]
  },
  {
   "cell_type": "markdown",
   "metadata": {},
   "source": [
    "Łaczenie kanałow w jeden obraz RGB"
   ]
  },
  {
   "cell_type": "code",
   "execution_count": null,
   "metadata": {},
   "outputs": [],
   "source": [
    "im1 = Image.merge('RGB', (im_r, im_g, im_b))\n",
    "im2 = Image.merge('RGB', (r, g, b)) \n",
    "im3 = Image.merge('RGB', (r, im_g, b))\n"
   ]
  },
  {
   "cell_type": "code",
   "execution_count": null,
   "metadata": {},
   "outputs": [],
   "source": [
    "ImageChops.difference(im1,im2)\n",
    "\n"
   ]
  },
  {
   "cell_type": "code",
   "execution_count": null,
   "metadata": {},
   "outputs": [],
   "source": [
    "ImageChops.difference(im1,im3)\n"
   ]
  },
  {
   "cell_type": "code",
   "execution_count": null,
   "metadata": {},
   "outputs": [],
   "source": [
    "# efekt przestawienia  kanałow\n",
    "im3 = Image.merge('RGB', (r, b, g))\n",
    "im3"
   ]
  },
  {
   "cell_type": "code",
   "execution_count": null,
   "metadata": {},
   "outputs": [],
   "source": [
    "# własny obraz w trybie L jako kanał\n",
    "t = (w, h)\n",
    "A = np.zeros(t, dtype=np.uint8)\n",
    "A_im = Image.fromarray(A)\n",
    "\n",
    "im4 = Image.merge('RGB', (r, A_im, b))\n",
    "im4"
   ]
  },
  {
   "cell_type": "code",
   "execution_count": null,
   "metadata": {},
   "outputs": [],
   "source": [
    "# własny obraz w trybie L jako kanał - drugi przykład\n",
    "B = np.ones(t, dtype=np.uint8)\n",
    "for i in range(w):\n",
    "    for j in range(h):\n",
    "        B[i, j] = (i + j) % 256\n",
    "\n",
    "B_im = Image.fromarray(B)\n",
    "im5 = Image.merge('RGB', (B_im, g, b))\n",
    "im5\n"
   ]
  }
 ],
 "metadata": {
  "kernelspec": {
   "display_name": "Python 3",
   "language": "python",
   "name": "python3"
  },
  "language_info": {
   "codemirror_mode": {
    "name": "ipython",
    "version": 3
   },
   "file_extension": ".py",
   "mimetype": "text/x-python",
   "name": "python",
   "nbconvert_exporter": "python",
   "pygments_lexer": "ipython3",
   "version": "3.8.0"
  }
 },
 "nbformat": 4,
 "nbformat_minor": 2
}
